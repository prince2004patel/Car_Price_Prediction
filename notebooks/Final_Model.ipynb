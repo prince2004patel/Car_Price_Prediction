{
 "cells": [
  {
   "cell_type": "markdown",
   "id": "721eebda-42be-4d60-84f7-b287e0fd50aa",
   "metadata": {},
   "source": [
    "# Final Code"
   ]
  },
  {
   "cell_type": "code",
   "execution_count": 1,
   "id": "dc9af661-373f-40e6-afc5-336c708d2dae",
   "metadata": {},
   "outputs": [
    {
     "name": "stdout",
     "output_type": "stream",
     "text": [
      "\n",
      "Model Evaluation on Test Data:\n",
      "Mean Absolute Error (MAE): 97172.2966\n",
      "Root Mean Squared Error (RMSE): 206262.6250\n",
      "R² Score: 0.9435\n"
     ]
    }
   ],
   "source": [
    "# --- Import Libraries ---\n",
    "import pandas as pd\n",
    "import numpy as np\n",
    "import pickle\n",
    "import gzip\n",
    "from sklearn.ensemble import RandomForestRegressor\n",
    "from sklearn.model_selection import train_test_split\n",
    "from sklearn.compose import ColumnTransformer\n",
    "from sklearn.preprocessing import OneHotEncoder, StandardScaler, LabelEncoder\n",
    "from sklearn.metrics import mean_absolute_error, mean_squared_error, r2_score\n",
    "\n",
    "# --- Load Dataset ---\n",
    "data = pd.read_csv(\"cardekho_imputated.csv\", index_col=[0])  # Replace with your dataset file name\n",
    "\n",
    "# Drop unnecessary columns\n",
    "data.drop(['car_name', 'brand'], axis=1, inplace=True)\n",
    "\n",
    "# Separate features and target\n",
    "X = data.drop(\"selling_price\", axis=1)\n",
    "y = data[\"selling_price\"]\n",
    "\n",
    "# Apply LabelEncoder for 'model'\n",
    "le = LabelEncoder()\n",
    "X['model'] = le.fit_transform(X['model'])\n",
    "\n",
    "# Identify numeric and categorical columns\n",
    "num_features = X.select_dtypes(exclude=\"object\").columns\n",
    "onehot_columns = ['seller_type', 'fuel_type', 'transmission_type']\n",
    "\n",
    "# Preprocessing: OneHotEncoding and Scaling\n",
    "numeric_transformer = StandardScaler()\n",
    "oh_transformer = OneHotEncoder(drop='first')\n",
    "\n",
    "preprocessor = ColumnTransformer(\n",
    "    [\n",
    "        (\"OneHotEncoder\", oh_transformer, onehot_columns),\n",
    "        (\"StandardScaler\", numeric_transformer, num_features)\n",
    "    ], remainder='passthrough'\n",
    ")\n",
    "\n",
    "# --- Split Data into Training and Test Sets ---\n",
    "X_train, X_test, y_train, y_test = train_test_split(X, y, test_size=0.2, random_state=42)\n",
    "\n",
    "# --- Apply preprocessing ---\n",
    "# Fit the preprocessor on the training data only\n",
    "X_train_transformed = preprocessor.fit_transform(X_train)\n",
    "X_test_transformed = preprocessor.transform(X_test)  # Apply transform to X_test (no fitting)\n",
    "\n",
    "# Save the preprocessor, model, and label encoder using gzip\n",
    "with gzip.open('preprocessor.pkl.gz', 'wb') as f:\n",
    "    pickle.dump(preprocessor, f)\n",
    "\n",
    "with gzip.open('label_encoder.pkl.gz', 'wb') as f:\n",
    "    pickle.dump(le, f)\n",
    "\n",
    "# --- Train the Random Forest model ---\n",
    "model = RandomForestRegressor(\n",
    "    n_estimators=1000, \n",
    "    min_samples_split=2, \n",
    "    max_features=5, \n",
    "    max_depth=15, \n",
    "    n_jobs=-1\n",
    ")\n",
    "\n",
    "model.fit(X_train_transformed, y_train)\n",
    "\n",
    "# Save the trained model using gzip\n",
    "with gzip.open('random_forest_model.pkl.gz', 'wb') as f:\n",
    "    pickle.dump(model, f)\n",
    "\n",
    "# --- Evaluate Model ---\n",
    "def evaluate_model(y_true, y_pred):\n",
    "    mae = mean_absolute_error(y_true, y_pred)\n",
    "    rmse = np.sqrt(mean_squared_error(y_true, y_pred))\n",
    "    r2 = r2_score(y_true, y_pred)\n",
    "    return mae, rmse, r2\n",
    "\n",
    "# Predictions\n",
    "y_test_pred = model.predict(X_test_transformed)\n",
    "\n",
    "# Evaluate model performance\n",
    "mae, rmse, r2 = evaluate_model(y_test, y_test_pred)\n",
    "print(\"\\nModel Evaluation on Test Data:\")\n",
    "print(f\"Mean Absolute Error (MAE): {mae:.4f}\")\n",
    "print(f\"Root Mean Squared Error (RMSE): {rmse:.4f}\")\n",
    "print(f\"R² Score: {r2:.4f}\") \n"
   ]
  },
  {
   "cell_type": "code",
   "execution_count": null,
   "id": "1245f8f3-1721-4b54-90c6-eb9436306e48",
   "metadata": {},
   "outputs": [],
   "source": []
  }
 ],
 "metadata": {
  "kernelspec": {
   "display_name": "Python 3 (ipykernel)",
   "language": "python",
   "name": "python3"
  },
  "language_info": {
   "codemirror_mode": {
    "name": "ipython",
    "version": 3
   },
   "file_extension": ".py",
   "mimetype": "text/x-python",
   "name": "python",
   "nbconvert_exporter": "python",
   "pygments_lexer": "ipython3",
   "version": "3.12.3"
  }
 },
 "nbformat": 4,
 "nbformat_minor": 5
}
