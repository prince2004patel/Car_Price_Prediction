{
 "cells": [
  {
   "cell_type": "code",
   "execution_count": null,
   "id": "85913cd8-479f-4fde-a216-762fb39cf819",
   "metadata": {},
   "outputs": [
    {
     "name": "stdout",
     "output_type": "stream",
     "text": [
      "Predicted Selling Price for the car: 473876.39\n"
     ]
    }
   ],
   "source": [
    "# --- Import Libraries ---\n",
    "import pandas as pd\n",
    "import pickle\n",
    "import gzip\n",
    "import numpy as np\n",
    "\n",
    "# Load saved models and preprocessors using gzip\n",
    "with gzip.open('preprocessor.pkl.gz', 'rb') as f:\n",
    "    preprocessor = pickle.load(f)\n",
    "\n",
    "with gzip.open('random_forest_model.pkl.gz', 'rb') as f:\n",
    "    model = pickle.load(f)\n",
    "\n",
    "with gzip.open('label_encoder.pkl.gz', 'rb') as f:\n",
    "    le = pickle.load(f)\n",
    "\n",
    "# --- Input Data Example (Simulating User Input from Frontend) ---\n",
    "single_row = {\n",
    "    \"car_name\": \"Maruti Swift\",      # This column will be dropped\n",
    "    \"brand\": \"Maruti\",              # This column will be dropped\n",
    "    \"model\": \"Swift\",\n",
    "    \"vehicle_age\": 5,               # Example: 5 years old\n",
    "    \"km_driven\": 45000,\n",
    "    \"seller_type\": \"Dealer\",\n",
    "    \"fuel_type\": \"Petrol\",\n",
    "    \"transmission_type\": \"Manual\",\n",
    "    \"mileage\": 20.4,                # Example: mileage in km/l\n",
    "    \"engine\": 1200,                 # Example: engine capacity in cc\n",
    "    \"max_power\": 82,                # Example: maximum power in bhp\n",
    "    \"seats\": 5,                     # Example: number of seats\n",
    "    \"selling_price\": None           # Placeholder; will not be used\n",
    "}\n",
    "\n",
    "# Convert the single row into a DataFrame\n",
    "single_row_df = pd.DataFrame([single_row])\n",
    "\n",
    "# Drop unnecessary columns\n",
    "single_row_df.drop(['car_name', 'brand'], axis=1, inplace=True)\n",
    "\n",
    "# Encode the 'model' column using the same LabelEncoder\n",
    "single_row_df['model'] = le.transform(single_row_df['model'])\n",
    "\n",
    "# Ensure the input data matches the training feature set (columns order)\n",
    "original_columns = [\n",
    "    'model', 'vehicle_age', 'km_driven', 'seller_type', 'fuel_type', \n",
    "    'transmission_type', 'mileage', 'engine', 'max_power', 'seats'\n",
    "]\n",
    "\n",
    "single_row_df = single_row_df[original_columns]  # Ensure columns are aligned with training data\n",
    "\n",
    "# Apply the preprocessing pipeline to the new row\n",
    "single_row_transformed = preprocessor.transform(single_row_df)\n",
    "\n",
    "# Predict the selling price for this new row\n",
    "predicted_price = model.predict(single_row_transformed)\n",
    "\n",
    "# Output the predicted price\n",
    "print(f\"Predicted Selling Price for the car: {predicted_price[0]:.2f}\")\n"
   ]
  },
  {
   "cell_type": "code",
   "execution_count": null,
   "id": "8a4fbe3f-6cb3-4ee8-bd9a-e17ba9a6c2b3",
   "metadata": {},
   "outputs": [],
   "source": []
  }
 ],
 "metadata": {
  "kernelspec": {
   "display_name": "Python 3 (ipykernel)",
   "language": "python",
   "name": "python3"
  },
  "language_info": {
   "codemirror_mode": {
    "name": "ipython",
    "version": 3
   },
   "file_extension": ".py",
   "mimetype": "text/x-python",
   "name": "python",
   "nbconvert_exporter": "python",
   "pygments_lexer": "ipython3",
   "version": "3.12.3"
  }
 },
 "nbformat": 4,
 "nbformat_minor": 5
}
